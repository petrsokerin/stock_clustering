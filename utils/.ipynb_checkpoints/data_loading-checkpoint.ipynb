{
 "cells": [
  {
   "cell_type": "code",
   "execution_count": 1,
   "id": "b72814f5",
   "metadata": {},
   "outputs": [],
   "source": [
    "import pandas as pd"
   ]
  },
  {
   "cell_type": "code",
   "execution_count": 2,
   "id": "e6badb6a",
   "metadata": {},
   "outputs": [
    {
     "data": {
      "text/html": [
       "<div>\n",
       "<style scoped>\n",
       "    .dataframe tbody tr th:only-of-type {\n",
       "        vertical-align: middle;\n",
       "    }\n",
       "\n",
       "    .dataframe tbody tr th {\n",
       "        vertical-align: top;\n",
       "    }\n",
       "\n",
       "    .dataframe thead th {\n",
       "        text-align: right;\n",
       "    }\n",
       "</style>\n",
       "<table border=\"1\" class=\"dataframe\">\n",
       "  <thead>\n",
       "    <tr style=\"text-align: right;\">\n",
       "      <th></th>\n",
       "      <th>Название компании</th>\n",
       "      <th>Тикер</th>\n",
       "      <th>Сектор</th>\n",
       "    </tr>\n",
       "  </thead>\n",
       "  <tbody>\n",
       "    <tr>\n",
       "      <th>0</th>\n",
       "      <td>S&amp;P Global Inc.</td>\n",
       "      <td>SPGI</td>\n",
       "      <td>Commercial Services</td>\n",
       "    </tr>\n",
       "    <tr>\n",
       "      <th>1</th>\n",
       "      <td>Moody’s Corporation</td>\n",
       "      <td>MCO</td>\n",
       "      <td>Commercial Services</td>\n",
       "    </tr>\n",
       "    <tr>\n",
       "      <th>2</th>\n",
       "      <td>Copart, Inc.</td>\n",
       "      <td>CPRT</td>\n",
       "      <td>Commercial Services</td>\n",
       "    </tr>\n",
       "    <tr>\n",
       "      <th>3</th>\n",
       "      <td>Equifax, Inc.</td>\n",
       "      <td>EFX</td>\n",
       "      <td>Commercial Services</td>\n",
       "    </tr>\n",
       "    <tr>\n",
       "      <th>4</th>\n",
       "      <td>FleetCor Technologies, Inc.</td>\n",
       "      <td>FLT</td>\n",
       "      <td>Commercial Services</td>\n",
       "    </tr>\n",
       "  </tbody>\n",
       "</table>\n",
       "</div>"
      ],
      "text/plain": [
       "             Название компании Тикер               Сектор\n",
       "0              S&P Global Inc.  SPGI  Commercial Services\n",
       "1          Moody’s Corporation   MCO  Commercial Services\n",
       "2                 Copart, Inc.  CPRT  Commercial Services\n",
       "3                Equifax, Inc.   EFX  Commercial Services\n",
       "4  FleetCor Technologies, Inc.   FLT  Commercial Services"
      ]
     },
     "execution_count": 2,
     "metadata": {},
     "output_type": "execute_result"
    }
   ],
   "source": [
    "tickers_sectors = pd.read_csv('tickers_sectors.csv', encoding='windows-1251', sep=';')\n",
    "tickers_sectors.head()"
   ]
  },
  {
   "cell_type": "code",
   "execution_count": 5,
   "id": "25e91a4b",
   "metadata": {},
   "outputs": [
    {
     "name": "stderr",
     "output_type": "stream",
     "text": [
      "  9%|▉         | 46/498 [01:53<16:29,  2.19s/it]"
     ]
    },
    {
     "name": "stdout",
     "output_type": "stream",
     "text": [
      "'Date'\n",
      "Ticker BF.B failed\n"
     ]
    },
    {
     "name": "stderr",
     "output_type": "stream",
     "text": [
      " 16%|█▌        | 78/498 [03:11<14:40,  2.10s/it]"
     ]
    },
    {
     "name": "stdout",
     "output_type": "stream",
     "text": [
      "'Date'\n",
      "Ticker FOX failed\n"
     ]
    },
    {
     "name": "stderr",
     "output_type": "stream",
     "text": [
      "\r",
      " 16%|█▌        | 79/498 [03:13<15:00,  2.15s/it]"
     ]
    },
    {
     "name": "stdout",
     "output_type": "stream",
     "text": [
      "'Date'\n",
      "Ticker FOXA failed\n"
     ]
    },
    {
     "name": "stderr",
     "output_type": "stream",
     "text": [
      " 33%|███▎      | 165/498 [06:59<20:51,  3.76s/it]"
     ]
    },
    {
     "name": "stdout",
     "output_type": "stream",
     "text": [
      "'Date'\n",
      "Ticker BRK.B failed\n"
     ]
    },
    {
     "name": "stderr",
     "output_type": "stream",
     "text": [
      " 44%|████▍     | 221/498 [09:21<09:26,  2.05s/it]"
     ]
    },
    {
     "name": "stdout",
     "output_type": "stream",
     "text": [
      "'Date'\n",
      "Ticker DRE failed\n"
     ]
    },
    {
     "name": "stderr",
     "output_type": "stream",
     "text": [
      " 45%|████▍     | 224/498 [09:27<09:23,  2.06s/it]"
     ]
    },
    {
     "name": "stdout",
     "output_type": "stream",
     "text": [
      "'Date'\n",
      "Ticker HIG failed\n"
     ]
    },
    {
     "name": "stderr",
     "output_type": "stream",
     "text": [
      " 47%|████▋     | 234/498 [09:50<09:10,  2.08s/it]"
     ]
    },
    {
     "name": "stdout",
     "output_type": "stream",
     "text": [
      "'Date'\n",
      "Ticker SBNY failed\n"
     ]
    },
    {
     "name": "stderr",
     "output_type": "stream",
     "text": [
      " 50%|████▉     | 247/498 [10:22<08:58,  2.15s/it]"
     ]
    },
    {
     "name": "stdout",
     "output_type": "stream",
     "text": [
      "No data fetched for symbol HST using YahooDailyReader\n",
      "Ticker HST failed\n"
     ]
    },
    {
     "name": "stderr",
     "output_type": "stream",
     "text": [
      "\r",
      " 50%|████▉     | 248/498 [10:23<07:28,  1.79s/it]"
     ]
    },
    {
     "name": "stdout",
     "output_type": "stream",
     "text": [
      "No data fetched for symbol CMA using YahooDailyReader\n",
      "Ticker CMA failed\n"
     ]
    },
    {
     "name": "stderr",
     "output_type": "stream",
     "text": [
      " 51%|█████     | 254/498 [10:40<09:07,  2.24s/it]"
     ]
    },
    {
     "name": "stdout",
     "output_type": "stream",
     "text": [
      "No data fetched for symbol AIZ using YahooDailyReader\n",
      "Ticker AIZ failed\n"
     ]
    },
    {
     "name": "stderr",
     "output_type": "stream",
     "text": [
      " 57%|█████▋    | 282/498 [11:49<08:24,  2.34s/it]"
     ]
    },
    {
     "name": "stdout",
     "output_type": "stream",
     "text": [
      "'Date'\n",
      "Ticker MRNA failed\n"
     ]
    },
    {
     "name": "stderr",
     "output_type": "stream",
     "text": [
      " 63%|██████▎   | 313/498 [12:59<06:25,  2.09s/it]"
     ]
    },
    {
     "name": "stdout",
     "output_type": "stream",
     "text": [
      "'Date'\n",
      "Ticker OGN failed\n"
     ]
    },
    {
     "name": "stderr",
     "output_type": "stream",
     "text": [
      " 67%|██████▋   | 333/498 [13:48<06:16,  2.28s/it]"
     ]
    },
    {
     "name": "stdout",
     "output_type": "stream",
     "text": [
      "'Date'\n",
      "Ticker DOW failed\n"
     ]
    },
    {
     "name": "stderr",
     "output_type": "stream",
     "text": [
      " 68%|██████▊   | 337/498 [13:58<06:25,  2.39s/it]"
     ]
    },
    {
     "name": "stdout",
     "output_type": "stream",
     "text": [
      "'Date'\n",
      "Ticker CTVA failed\n"
     ]
    },
    {
     "name": "stderr",
     "output_type": "stream",
     "text": [
      " 73%|███████▎  | 363/498 [15:04<05:29,  2.44s/it]"
     ]
    },
    {
     "name": "stdout",
     "output_type": "stream",
     "text": [
      "'Date'\n",
      "Ticker CARR failed\n"
     ]
    },
    {
     "name": "stderr",
     "output_type": "stream",
     "text": [
      " 74%|███████▎  | 367/498 [15:13<05:01,  2.30s/it]"
     ]
    },
    {
     "name": "stdout",
     "output_type": "stream",
     "text": [
      "'Date'\n",
      "Ticker OTIS failed\n"
     ]
    },
    {
     "name": "stderr",
     "output_type": "stream",
     "text": [
      "100%|██████████| 498/498 [20:26<00:00,  2.46s/it]\n"
     ]
    },
    {
     "data": {
      "text/html": [
       "<div>\n",
       "<style scoped>\n",
       "    .dataframe tbody tr th:only-of-type {\n",
       "        vertical-align: middle;\n",
       "    }\n",
       "\n",
       "    .dataframe tbody tr th {\n",
       "        vertical-align: top;\n",
       "    }\n",
       "\n",
       "    .dataframe thead th {\n",
       "        text-align: right;\n",
       "    }\n",
       "</style>\n",
       "<table border=\"1\" class=\"dataframe\">\n",
       "  <thead>\n",
       "    <tr style=\"text-align: right;\">\n",
       "      <th></th>\n",
       "      <th>Ticker</th>\n",
       "      <th>Date</th>\n",
       "      <th>Close</th>\n",
       "    </tr>\n",
       "  </thead>\n",
       "  <tbody>\n",
       "    <tr>\n",
       "      <th>2018-01-02</th>\n",
       "      <td>SPGI</td>\n",
       "      <td>2018-01-02</td>\n",
       "      <td>168.119995</td>\n",
       "    </tr>\n",
       "    <tr>\n",
       "      <th>2018-01-03</th>\n",
       "      <td>SPGI</td>\n",
       "      <td>2018-01-03</td>\n",
       "      <td>170.820007</td>\n",
       "    </tr>\n",
       "    <tr>\n",
       "      <th>2018-01-04</th>\n",
       "      <td>SPGI</td>\n",
       "      <td>2018-01-04</td>\n",
       "      <td>173.380005</td>\n",
       "    </tr>\n",
       "    <tr>\n",
       "      <th>2018-01-05</th>\n",
       "      <td>SPGI</td>\n",
       "      <td>2018-01-05</td>\n",
       "      <td>175.699997</td>\n",
       "    </tr>\n",
       "    <tr>\n",
       "      <th>2018-01-08</th>\n",
       "      <td>SPGI</td>\n",
       "      <td>2018-01-08</td>\n",
       "      <td>177.179993</td>\n",
       "    </tr>\n",
       "  </tbody>\n",
       "</table>\n",
       "</div>"
      ],
      "text/plain": [
       "           Ticker       Date       Close\n",
       "2018-01-02   SPGI 2018-01-02  168.119995\n",
       "2018-01-03   SPGI 2018-01-03  170.820007\n",
       "2018-01-04   SPGI 2018-01-04  173.380005\n",
       "2018-01-05   SPGI 2018-01-05  175.699997\n",
       "2018-01-08   SPGI 2018-01-08  177.179993"
      ]
     },
     "execution_count": 5,
     "metadata": {},
     "output_type": "execute_result"
    }
   ],
   "source": [
    "import pandas_datareader.data as web\n",
    "from tqdm import tqdm\n",
    "\n",
    "start_date = '2018-01-01'\n",
    "df = pd.DataFrame(columns=['Ticker', 'Date', 'Close'])\n",
    "end_date = '2018-06-08'\n",
    "for tick in tqdm(tickers_sectors['Тикер'].values):\n",
    "    try:\n",
    "        panel_data = web.DataReader(tick, 'yahoo', start_date, end_date)\n",
    "        temp = pd.DataFrame(data={\n",
    "            'Date':panel_data.index,\n",
    "            'Close':panel_data['Close'], \n",
    "            'Ticker':[tick]*panel_data.shape[0]})\n",
    "        \n",
    "        df = pd.concat([df, temp])\n",
    "        \n",
    "    except Exception as e:\n",
    "        print(e)\n",
    "        print('Ticker', tick, 'failed')\n",
    "df.head()"
   ]
  },
  {
   "cell_type": "code",
   "execution_count": null,
   "id": "bc0d0a28",
   "metadata": {},
   "outputs": [],
   "source": []
  }
 ],
 "metadata": {
  "kernelspec": {
   "display_name": "Python 3",
   "language": "python",
   "name": "python3"
  },
  "language_info": {
   "codemirror_mode": {
    "name": "ipython",
    "version": 3
   },
   "file_extension": ".py",
   "mimetype": "text/x-python",
   "name": "python",
   "nbconvert_exporter": "python",
   "pygments_lexer": "ipython3",
   "version": "3.8.8"
  }
 },
 "nbformat": 4,
 "nbformat_minor": 5
}
