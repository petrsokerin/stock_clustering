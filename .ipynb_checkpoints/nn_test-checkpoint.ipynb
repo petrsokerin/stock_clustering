{
 "cells": [
  {
   "cell_type": "code",
   "execution_count": 1,
   "id": "db517c9a",
   "metadata": {},
   "outputs": [],
   "source": [
    "from autoencoders import Conv1dAutoEncoder, LSTMAutoEncoder, TickerDataModule, MLPAutoEncoder\n",
    "\n",
    "from typing import Any\n",
    "import pandas as pd\n",
    "import numpy as np\n",
    "from math import floor\n",
    "import torch\n",
    "\n",
    "from tqdm.notebook import tqdm"
   ]
  },
  {
   "cell_type": "code",
   "execution_count": 2,
   "id": "eed8619f",
   "metadata": {},
   "outputs": [
    {
     "name": "stdout",
     "output_type": "stream",
     "text": [
      "1\n"
     ]
    }
   ],
   "source": [
    "model_mlp = MLPAutoEncoder.load_from_checkpoint('autoencoders/lightning_logs/mlp/version_0/checkpoints/epoch=149-step=24749.ckpt',\n",
    "                                            in_features=100,\n",
    "                                            latent_features=18)\n",
    "model_lstm = LSTMAutoEncoder.load_from_checkpoint('autoencoders/lightning_logs/lstm/version_0/checkpoints/epoch=99-step=14699.ckpt',\n",
    "                                            seq_len=100,\n",
    "                                            n_features=1, \n",
    "                                            embedding_dim=18)\n",
    "model_cae = Conv1dAutoEncoder.load_from_checkpoint('autoencoders/lightning_logs/cae/version_0/checkpoints/epoch=99-step=16499.ckpt',\n",
    "                                            in_channels=1,\n",
    "                                            n_latent_features=18, \n",
    "                                            seq_len=100)\n",
    "model_mlp.eval()\n",
    "model_lstm.eval()\n",
    "model_cae.eval();"
   ]
  },
  {
   "cell_type": "code",
   "execution_count": 4,
   "id": "872f865a",
   "metadata": {},
   "outputs": [
    {
     "data": {
      "application/vnd.jupyter.widget-view+json": {
       "model_id": "4e2c07380a91433fbc851147c7fe44e1",
       "version_major": 2,
       "version_minor": 0
      },
      "text/plain": [
       "0it [00:00, ?it/s]"
      ]
     },
     "metadata": {},
     "output_type": "display_data"
    }
   ],
   "source": [
    "mlp_encoded = np.zeros((df.shape[0], 18))\n",
    "lstm_encoded = np.zeros((df.shape[0], 18))\n",
    "cae_encoded = np.zeros((df.shape[0], 18))\n",
    "\n",
    "for i, name_ticker in tqdm(enumerate(np.unique(df.index))):\n",
    "    ts_name = df[df.index == name_ticker].values\n",
    "    ts_name = ts_name.flatten()\n",
    "    seq_len = ts_name.shape[0]\n",
    "    fl_1 = floor(seq_len / 100)\n",
    "    sample_1 = ts_name[:100 * fl_1].reshape(fl_1, 1, 100)\n",
    "    fl_2 = floor(seq_len / 100)\n",
    "    sample_2 = ts_name[:100 * fl_2].reshape(fl_2, 1, 100)\n",
    "    \n",
    "    mlp_sample = model_mlp.predict_step(torch.tensor(sample_1).float()).detach().numpy()\n",
    "    cae_sample = model_cae.predict_step(torch.tensor(sample_1).float()).squeeze().detach().numpy()\n",
    "    lstm_sample = model_lstm.predict_step(torch.tensor(sample_2).float()).detach().numpy()\n",
    "    \n",
    "    mlp_emb = mlp_sample.mean(axis=0)\n",
    "    cae_emb = cae_sample.mean(axis=0)\n",
    "    lstm_emb = lstm_sample.mean(axis=0)\n",
    "    \n",
    "    mlp_encoded[i, :] = mlp_emb\n",
    "    cae_encoded[i, :] = cae_emb\n",
    "    lstm_encoded[i, :] = lstm_emb\n",
    "        "
   ]
  },
  {
   "cell_type": "code",
   "execution_count": 5,
   "id": "69926901",
   "metadata": {},
   "outputs": [],
   "source": [
    "df_mlp = pd.DataFrame(mlp_encoded, index=np.unique(df.index))\n",
    "df_cae = pd.DataFrame(cae_encoded, index=np.unique(df.index))\n",
    "df_lstm = pd.DataFrame(lstm_encoded, index=np.unique(df.index))"
   ]
  },
  {
   "cell_type": "code",
   "execution_count": 6,
   "id": "79951b0a",
   "metadata": {},
   "outputs": [],
   "source": [
    "df_mlp.to_csv('data/nn_data/ticker_data_mlp.csv')\n",
    "df_cae.to_csv('data/nn_data/ticker_data_cae.csv')\n",
    "df_lstm.to_csv('data/nn_data/ticker_data_lstm.csv')"
   ]
  },
  {
   "cell_type": "code",
   "execution_count": null,
   "id": "bfce82b3",
   "metadata": {},
   "outputs": [],
   "source": []
  }
 ],
 "metadata": {
  "kernelspec": {
   "display_name": "Python 3 (ipykernel)",
   "language": "python",
   "name": "python3"
  },
  "language_info": {
   "codemirror_mode": {
    "name": "ipython",
    "version": 3
   },
   "file_extension": ".py",
   "mimetype": "text/x-python",
   "name": "python",
   "nbconvert_exporter": "python",
   "pygments_lexer": "ipython3",
   "version": "3.8.12"
  }
 },
 "nbformat": 4,
 "nbformat_minor": 5
}
